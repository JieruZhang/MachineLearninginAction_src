{
 "cells": [
  {
   "cell_type": "code",
   "execution_count": 9,
   "metadata": {
    "ExecuteTime": {
     "end_time": "2018-11-30T02:15:59.006048Z",
     "start_time": "2018-11-30T02:15:58.226498Z"
    }
   },
   "outputs": [
    {
     "name": "stdout",
     "output_type": "stream",
     "text": [
      "{'spVal': 0.48813, 'right': -0.04465028571428572, 'left': 1.0180967672413792, 'spInd': 0}\n",
      "{'spVal': 0.39435, 'right': {'spVal': 0.197834, 'right': -0.023838155555555553, 'left': 1.0289583666666666, 'spInd': 1}, 'left': {'spVal': 0.582002, 'right': 1.980035071428571, 'left': {'spVal': 0.797583, 'right': 2.9836209534883724, 'left': 3.9871632, 'spInd': 1}, 'spInd': 1}, 'spInd': 1}\n"
     ]
    }
   ],
   "source": [
    "from numpy import *\n",
    "\n",
    "#加载数据集\n",
    "def loadData(filename):\n",
    "    dataMat = []\n",
    "    fr = open(filename)\n",
    "    for line in fr.readlines():\n",
    "        line = line.strip().split('\\t')\n",
    "        for i in range(len(line)):\n",
    "            line[i] = float(line[i])\n",
    "        dataMat.append(line)\n",
    "    return dataMat\n",
    "\n",
    "#切分数据集，对于特征属性feature，以value作为中点，小于value作为数据集1，大于value作为数据集2\n",
    "def binSplitData(data, feature, value):\n",
    "    #nonzero，当使用布尔数组直接作为下标对象或者元组下标对象中有布尔数组时，\n",
    "    #都相当于用nonzero()将布尔数组转换成一组整数数组，然后使用整数数组进行下标运算。\n",
    "    mat1 = data[nonzero(data[:,feature] > value)[0],:]\n",
    "    mat2 = data[nonzero(data[:,feature] <= value)[0],:]\n",
    "    return mat1, mat2\n",
    "\n",
    "#找到数据切分的最佳位置，遍历所有特征及其可能取值找到使误差最小化的切分阈值\n",
    "#生成叶子节点,即计算属于该叶子的所有数据的label的均值（回归树使用总方差）\n",
    "def regLeaf(data):\n",
    "    return mean(data[:,-1])\n",
    "\n",
    "#误差计算函数：总方差\n",
    "def regErr(data):\n",
    "    return var(data[:,-1]) * shape(data)[0]\n",
    "\n",
    "#最佳切分查找函数\n",
    "def chooseBestSplit(data, leafType=regLeaf, errType=regErr, ops=(1,4)):\n",
    "    #容许的误差下降值\n",
    "    tolS = ops[0]\n",
    "    #切分的最少样本数\n",
    "    tolN = ops[1]\n",
    "    #如果数据的y值都相等，即属于一个label，则说明已经不用再分了，则返回叶子节点并退出\n",
    "    if len(set(data[:,-1].T.tolist()[0])) == 1:\n",
    "        return None, leafType(data)\n",
    "    #否则，继续分\n",
    "    m,n = shape(data)\n",
    "    #原数据集的误差\n",
    "    s = regErr(data)\n",
    "    #最佳误差(先设为极大值),最佳误差对应的特征的index，和对应的使用的切分值\n",
    "    best_s =  inf\n",
    "    best_index = 0\n",
    "    best_val = 0\n",
    "    for feat_index in range(n-1):\n",
    "        for val in set(data[:,feat_index].T.A.tolist()[0]):\n",
    "            #根据特征feat_index和其对应的划分取值val将数据集分开\n",
    "            mat1, mat2 = binSplitData(data, feat_index, val)\n",
    "            #若某一个数据集大小小于tolN，则停止该轮循环\n",
    "            if (shape(mat1)[0] < tolN) or (shape(mat2)[0] < tolN):\n",
    "                continue\n",
    "            new_s = errType(mat1) + errType(mat2)\n",
    "            if new_s < best_s:\n",
    "                best_s = new_s\n",
    "                best_index = feat_index\n",
    "                best_val = val\n",
    "    #如果最佳的误差相较于总误差下降的不多，则停止分支，返回叶节点\n",
    "    if (s-best_s) < tolS:\n",
    "        return None, leafType(data)\n",
    "    #如果划分出来的两个数据集，存在大小小于tolN的，也停止分支，返回叶节点\n",
    "    mat1, mat2 = binSplitData(data, best_index, best_val)\n",
    "    if (shape(mat1)[0] < tolN) or (shape(mat2)[0] < tolN):\n",
    "        return None, leafType(data)\n",
    "    #否则，继续分支，返回最佳的特征和其选取的值\n",
    "    return best_index, best_val\n",
    "\n",
    "#创建回归树\n",
    "def createTree(data, leafType=regLeaf, errType=regErr, ops = (1,4)):\n",
    "    #找到最佳的划分特征以及其对应的值\n",
    "    feat, val = chooseBestSplit(data, leafType, errType, ops)\n",
    "    #若达到停止条件，feat为None并返回数值（回归树）或线性方程（模型树）\n",
    "    if feat is None:\n",
    "        return val\n",
    "    #若未达到停止条件，则根据feat和对应的val将数据集分开，然后左右孩子递归地创建回归树\n",
    "    #tree 存储了当前根节点划分的特征以及其对应的划分值，另外，左右孩子也作为字典存储\n",
    "    rgtree = {}\n",
    "    rgtree['spInd'] = feat\n",
    "    rgtree['spVal'] = val\n",
    "    lset, rset = binSplitData(data,feat,val)\n",
    "    rgtree['left'] = createTree(lset,leafType, errType, ops)\n",
    "    rgtree['right'] = createTree(rset,leafType, errType, ops)\n",
    "    return rgtree\n",
    "\n",
    "#测试上述函数，分类单特征样本\n",
    "data = mat(loadData('ex00.txt'))\n",
    "rgtree = createTree(data)\n",
    "print(rgtree)\n",
    "#测试上述函数，分类多特征样本\n",
    "data1 = mat(loadData('ex0.txt'))\n",
    "rgtree1 = createTree(data1)\n",
    "print(rgtree1)"
   ]
  },
  {
   "cell_type": "markdown",
   "metadata": {
    "ExecuteTime": {
     "end_time": "2018-11-30T01:32:09.850266Z",
     "start_time": "2018-11-30T01:32:09.838263Z"
    }
   },
   "source": [
    "## 剪枝\n",
    "之前所做的一些关于容许误差下降值tolS和tolN属于一种预剪枝，但是根据数据量级的不同，需要时不时地修改设置的阈值，太繁琐，下面展示一个例子。\n",
    "给定两个数据集‘ex00.txt’和‘ex2.txt’，均为单一特征的样本数据。画出二者的分布图："
   ]
  },
  {
   "cell_type": "code",
   "execution_count": 24,
   "metadata": {
    "ExecuteTime": {
     "end_time": "2018-11-30T02:56:12.044767Z",
     "start_time": "2018-11-30T02:56:09.844207Z"
    }
   },
   "outputs": [
    {
     "data": {
      "image/png": "[encoded data removed]",
      "text/plain": [
       "<Figure size 432x288 with 2 Axes>"
      ]
     },
     "metadata": {},
     "output_type": "display_data"
    },
    {
     "name": "stdout",
     "output_type": "stream",
     "text": [
      "第一棵树：\n",
      " {'spVal': 0.48813, 'right': -0.04465028571428572, 'left': 1.0180967672413792, 'spInd': 0}\n",
      "第二棵树：\n",
      " {'spVal': 0.499171, 'right': {'spVal': 0.457563, 'right': {'spVal': 0.126833, 'right': {'spVal': 0.084661, 'right': {'spVal': 0.044737, 'right': 4.091626, 'left': -2.544392714285715, 'spInd': 0}, 'left': 6.509843285714284, 'spInd': 0}, 'left': {'spVal': 0.373501, 'right': {'spVal': 0.335182, 'right': {'spVal': 0.324274, 'right': {'spVal': 0.297107, 'right': {'spVal': 0.166765, 'right': {'spVal': 0.156067, 'right': -6.247900000000001, 'left': -12.1079725, 'spInd': 0}, 'left': {'spVal': 0.202161, 'right': 3.4496025, 'left': {'spVal': 0.217214, 'right': -11.822278500000001, 'left': {'spVal': 0.228473, 'right': 6.770429, 'left': {'spVal': 0.25807, 'right': -13.070501, 'left': 0.40377471428571476, 'spInd': 0}, 'spInd': 0}, 'spInd': 0}, 'spInd': 0}, 'spInd': 0}, 'left': -19.9941552, 'spInd': 0}, 'left': 15.05929075, 'spInd': 0}, 'left': {'spVal': 0.350725, 'right': -22.693879600000002, 'left': -15.08511175, 'spInd': 0}, 'spInd': 0}, 'left': {'spVal': 0.437652, 'right': {'spVal': 0.412516, 'right': {'spVal': 0.385021, 'right': 3.6584772500000016, 'left': -0.8923554999999995, 'spInd': 0}, 'left': 14.38417875, 'spInd': 0}, 'left': -12.558604833333334, 'spInd': 0}, 'spInd': 0}, 'spInd': 0}, 'left': {'spVal': 0.467383, 'right': 3.4331330000000007, 'left': 12.50675925, 'spInd': 0}, 'spInd': 0}, 'left': {'spVal': 0.729397, 'right': {'spVal': 0.640515, 'right': {'spVal': 0.613004, 'right': {'spVal': 0.582311, 'right': {'spVal': 0.553797, 'right': {'spVal': 0.51915, 'right': 101.73699325000001, 'left': {'spVal': 0.543843, 'right': 110.979946, 'left': 109.38961049999999, 'spInd': 0}, 'spInd': 0}, 'left': 97.20018024999999, 'spInd': 0}, 'left': 123.2101316, 'spInd': 0}, 'left': 93.67344971428572, 'spInd': 0}, 'left': {'spVal': 0.666452, 'right': 114.1516242857143, 'left': {'spVal': 0.706961, 'right': {'spVal': 0.698472, 'right': 108.92921799999999, 'left': 104.82495374999999, 'spInd': 0}, 'left': 114.554706, 'spInd': 0}, 'spInd': 0}, 'spInd': 0}, 'left': {'spVal': 0.952833, 'right': {'spVal': 0.759504, 'right': 78.08564325, 'left': {'spVal': 0.790312, 'right': 102.35780185714285, 'left': {'spVal': 0.833026, 'right': {'spVal': 0.811602, 'right': 88.78449880000001, 'left': 81.110152, 'spInd': 0}, 'left': {'spVal': 0.944221, 'right': {'spVal': 0.85497, 'right': 95.27584316666666, 'left': {'spVal': 0.910975, 'right': {'spVal': 0.892999, 'right': {'spVal': 0.872883, 'right': 102.25234449999999, 'left': 95.181793, 'spInd': 0}, 'left': 104.825409, 'spInd': 0}, 'left': 96.452867, 'spInd': 0}, 'spInd': 0}, 'left': 87.3103875, 'spInd': 0}, 'spInd': 0}, 'spInd': 0}, 'spInd': 0}, 'left': {'spVal': 0.958512, 'right': 112.42895575000001, 'left': 105.24862350000001, 'spInd': 0}, 'spInd': 0}, 'spInd': 0}, 'spInd': 0}\n"
     ]
    }
   ],
   "source": [
    "import matplotlib\n",
    "import matplotlib.pyplot as plt\n",
    "\n",
    "data1 = np.array(loadData('ex00.txt'))\n",
    "data2 = np.array(loadData('ex2.txt'))\n",
    "fig = plt.figure()\n",
    "ax = fig.add_subplot(121)\n",
    "ax.scatter(data1[:,0], data1[:,1])\n",
    "ax1 = fig.add_subplot(122)\n",
    "ax1.scatter(data2[:,0], data2[:,1])\n",
    "plt.show()\n",
    "\n",
    "data1 = mat(data1)\n",
    "data2 = mat(data2)\n",
    "print('第一棵树：\\n',createTree(data1))\n",
    "print('第二棵树：\\n',createTree(data2))"
   ]
  },
  {
   "cell_type": "markdown",
   "metadata": {},
   "source": [
    "由上图可知，二者都是可以分成两类，但是当我们用之前的回归树分类时，前者是可以分为两类的，而后者的回归树变得十分复杂（延展出很多分支很深的分支）。这是因为预剪枝中的停止阈值tolS对数量级十分敏感，需要二次修改。这样就浪费了大量的时间。此外，预剪枝很可能造成欠拟合，因此剪枝最长用的是后剪枝。"
   ]
  },
  {
   "cell_type": "code",
   "execution_count": 27,
   "metadata": {
    "ExecuteTime": {
     "end_time": "2018-11-30T03:46:55.464643Z",
     "start_time": "2018-11-30T03:46:54.487943Z"
    }
   },
   "outputs": [
    {
     "name": "stdout",
     "output_type": "stream",
     "text": [
      "merging\n",
      "merging\n",
      "merging\n",
      "merging\n",
      "merging\n",
      "merging\n",
      "merging\n",
      "merging\n",
      "merging\n",
      "{'spVal': 0.499171, 'right': {'spVal': 0.457563, 'right': {'spVal': 0.126833, 'right': {'spVal': 0.084661, 'right': {'spVal': 0.044737, 'right': 4.091626, 'left': -2.544392714285715, 'spInd': 0}, 'left': 6.509843285714284, 'spInd': 0}, 'left': {'spVal': 0.373501, 'right': {'spVal': 0.335182, 'right': {'spVal': 0.324274, 'right': {'spVal': 0.297107, 'right': {'spVal': 0.166765, 'right': {'spVal': 0.156067, 'right': -6.247900000000001, 'left': -12.1079725, 'spInd': 0}, 'left': {'spVal': 0.202161, 'right': 3.4496025, 'left': -5.801872785714286, 'spInd': 0}, 'spInd': 0}, 'left': -19.9941552, 'spInd': 0}, 'left': 15.05929075, 'spInd': 0}, 'left': {'spVal': 0.350725, 'right': -22.693879600000002, 'left': -15.08511175, 'spInd': 0}, 'spInd': 0}, 'left': {'spVal': 0.437652, 'right': {'spVal': 0.412516, 'right': 1.383060875000001, 'left': 14.38417875, 'spInd': 0}, 'left': -12.558604833333334, 'spInd': 0}, 'spInd': 0}, 'spInd': 0}, 'left': 7.969946125, 'spInd': 0}, 'left': {'spVal': 0.729397, 'right': {'spVal': 0.640515, 'right': {'spVal': 0.613004, 'right': {'spVal': 0.582311, 'right': 101.580533, 'left': 123.2101316, 'spInd': 0}, 'left': 93.67344971428572, 'spInd': 0}, 'left': {'spVal': 0.666452, 'right': 114.1516242857143, 'left': {'spVal': 0.706961, 'right': 106.87708587499999, 'left': 114.554706, 'spInd': 0}, 'spInd': 0}, 'spInd': 0}, 'left': {'spVal': 0.952833, 'right': {'spVal': 0.759504, 'right': 78.08564325, 'left': {'spVal': 0.790312, 'right': 102.35780185714285, 'left': {'spVal': 0.833026, 'right': {'spVal': 0.811602, 'right': 88.78449880000001, 'left': 81.110152, 'spInd': 0}, 'left': {'spVal': 0.944221, 'right': {'spVal': 0.85497, 'right': 95.27584316666666, 'left': {'spVal': 0.910975, 'right': {'spVal': 0.892999, 'right': {'spVal': 0.872883, 'right': 102.25234449999999, 'left': 95.181793, 'spInd': 0}, 'left': 104.825409, 'spInd': 0}, 'left': 96.452867, 'spInd': 0}, 'spInd': 0}, 'left': 87.3103875, 'spInd': 0}, 'spInd': 0}, 'spInd': 0}, 'spInd': 0}, 'left': {'spVal': 0.958512, 'right': 112.42895575000001, 'left': 105.24862350000001, 'spInd': 0}, 'spInd': 0}, 'spInd': 0}, 'spInd': 0}\n"
     ]
    }
   ],
   "source": [
    "#判断是否为树\n",
    "def isTree(obj):\n",
    "    return (type(obj).__name__ == 'dict')\n",
    "\n",
    "#递归函数，找到叶节点平均值，塌陷处理\n",
    "def getMean(tree):\n",
    "    if isTree(tree['right']):\n",
    "        tree['right'] = getMean(tree['right'])\n",
    "    if isTree(tree['left']):\n",
    "        tree['left'] = getMean(tree['left'])\n",
    "    return (tree[left] + tree[right])/2.0\n",
    "\n",
    "#剪枝\n",
    "def prune(tree, testData):\n",
    "    #如果测试数据为空，则直接对原树进行塌陷处理\n",
    "    if shape(testData)[0] == 0:\n",
    "        return getMean(tree)\n",
    "    #如果当前节点不是叶子节点的父节点，将test数据分支，然后递归地对左子树和右子树剪枝\n",
    "    if isTree(tree['left']) or isTree(tree['right']):\n",
    "        lSet, rSet = binSplitData(testData, tree['spInd'], tree['spVal'])\n",
    "    if isTree(tree['left']):\n",
    "        tree['left'] = prune(tree['left'],lSet)\n",
    "    if isTree(tree['right']):\n",
    "        tree['right'] = prune(tree['right'],rSet)\n",
    "    #如果当前节点是叶子节点的父节点，即左右子树都为一个数值而非子树，计算剪枝前后，测试数据在这个父节点出的误差\n",
    "    #根据误差是否降低来判断是否剪枝（合并左右叶子节点到其父节点，使该父节点成为新的叶子节点）\n",
    "    if (not isTree(tree['left'])) and (not isTree(tree['right'])):\n",
    "        lSet, rSet = binSplitData(testData, tree['spInd'], tree['spVal'])\n",
    "        #不剪枝\n",
    "        errorNoMerge = sum(power(lSet[:,-1]-tree['left'],2)) + sum(power(rSet[:,-1]-tree['right'],2))\n",
    "        #剪枝\n",
    "        treeMean = (tree['left'] + tree['right'])/2.0\n",
    "        errorMerge = sum(power(testData[:,-1]-treeMean,2))\n",
    "        if errorMerge < errorNoMerge:\n",
    "            print('merging')\n",
    "            return treeMean\n",
    "        else:\n",
    "            return tree\n",
    "    else:\n",
    "        return tree\n",
    "    \n",
    "#将上述data2进行剪枝\n",
    "testData = mat(loadData('ex2test.txt'))\n",
    "tree = createTree(data2)\n",
    "new_tree = prune(tree,testData)\n",
    "print(new_tree)"
   ]
  },
  {
   "cell_type": "markdown",
   "metadata": {},
   "source": [
    "## 模型树\n",
    "__普通回归树__：叶子节点为数值，表示属于该分组的样本的y值的平均值；   \n",
    "__模型树__：叶子节点是线性函数，对下述样本点，用两条直线建模要优于用两个值。\n",
    "模型树优点：可解释性，预测准确度高。"
   ]
  },
  {
   "cell_type": "code",
   "execution_count": 28,
   "metadata": {
    "ExecuteTime": {
     "end_time": "2018-11-30T03:56:28.640470Z",
     "start_time": "2018-11-30T03:56:28.046050Z"
    }
   },
   "outputs": [
    {
     "data": {
      "image/png": "[encoded data removed]",
      "text/plain": [
       "<Figure size 432x288 with 1 Axes>"
      ]
     },
     "metadata": {},
     "output_type": "display_data"
    }
   ],
   "source": [
    "data1 = np.array(loadData('exp2.txt'))\n",
    "fig = plt.figure()\n",
    "ax = fig.add_subplot(111)\n",
    "ax.scatter(data1[:,0], data1[:,1])\n",
    "plt.show()\n"
   ]
  },
  {
   "cell_type": "code",
   "execution_count": null,
   "metadata": {},
   "outputs": [],
   "source": []
  }
 ],
 "metadata": {
  "kernelspec": {
   "display_name": "Python 3",
   "language": "python",
   "name": "python3"
  },
  "language_info": {
   "codemirror_mode": {
    "name": "ipython",
    "version": 3
   },
   "file_extension": ".py",
   "mimetype": "text/x-python",
   "name": "python",
   "nbconvert_exporter": "python",
   "pygments_lexer": "ipython3",
   "version": "3.5.5"
  },
  "varInspector": {
   "cols": {
    "lenName": 16,
    "lenType": 16,
    "lenVar": 40
   },
   "kernels_config": {
    "python": {
     "delete_cmd_postfix": "",
     "delete_cmd_prefix": "del ",
     "library": "var_list.py",
     "varRefreshCmd": "print(var_dic_list())"
    },
    "r": {
     "delete_cmd_postfix": ") ",
     "delete_cmd_prefix": "rm(",
     "library": "var_list.r",
     "varRefreshCmd": "cat(var_dic_list()) "
    }
   },
   "types_to_exclude": [
    "module",
    "function",
    "builtin_function_or_method",
    "instance",
    "_Feature"
   ],
   "window_display": false
  }
 },
 "nbformat": 4,
 "nbformat_minor": 2
}
